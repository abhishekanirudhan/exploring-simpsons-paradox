{
 "cells": [
  {
   "cell_type": "markdown",
   "id": "fa746b4c",
   "metadata": {},
   "source": [
    "## Introduction\n",
    "\n",
    "I thought I'd use this application as an opportunity to work on a fresh project. I chose a simple dataset to put my skills in R, tidy functions and regression analysis on display. I wrote this project on a *Jupyter Notebook*.\n",
    "\n",
    "### The Dataset\n",
    "For this project, I'm using the [University of California, Berkeley Admissions dataset](https://stat.ethz.ch/R-manual/R-patched/library/datasets/html/UCBAdmissions.html) available as a function in the [datasets](https://stat.ethz.ch/R-manual/R-devel/library/datasets/html/00Index.html) package.\n",
    "\n",
    "The dataset contains admissions information from Berekely's six largest departments in 1973. \n",
    "\n",
    "### The Objective\n",
    "This dataset is freqeuntly used to illustrate [*Simpson's Paradox*](https://en.wikipedia.org/wiki/Simpson%27s_paradox). I will attempt to do the same.\n"
   ]
  },
  {
   "cell_type": "code",
   "execution_count": 1,
   "id": "c57fd3dd",
   "metadata": {},
   "outputs": [
    {
     "name": "stderr",
     "output_type": "stream",
     "text": [
      "\n",
      "Attaching package: 'dplyr'\n",
      "\n",
      "The following objects are masked from 'package:stats':\n",
      "\n",
      "    filter, lag\n",
      "\n",
      "The following objects are masked from 'package:base':\n",
      "\n",
      "    intersect, setdiff, setequal, union\n",
      "\n",
      "Registered S3 methods overwritten by 'ggplot2':\n",
      "  method         from \n",
      "  [.quosures     rlang\n",
      "  c.quosures     rlang\n",
      "  print.quosures rlang\n"
     ]
    },
    {
     "data": {
      "text/html": [
       "<ol>\n",
       "\t<li><ol class=list-inline>\n",
       "\t<li>'broom'</li>\n",
       "\t<li>'stats'</li>\n",
       "\t<li>'graphics'</li>\n",
       "\t<li>'grDevices'</li>\n",
       "\t<li>'utils'</li>\n",
       "\t<li>'datasets'</li>\n",
       "\t<li>'methods'</li>\n",
       "\t<li>'base'</li>\n",
       "</ol>\n",
       "</li>\n",
       "\t<li><ol class=list-inline>\n",
       "\t<li>'dplyr'</li>\n",
       "\t<li>'broom'</li>\n",
       "\t<li>'stats'</li>\n",
       "\t<li>'graphics'</li>\n",
       "\t<li>'grDevices'</li>\n",
       "\t<li>'utils'</li>\n",
       "\t<li>'datasets'</li>\n",
       "\t<li>'methods'</li>\n",
       "\t<li>'base'</li>\n",
       "</ol>\n",
       "</li>\n",
       "\t<li><ol class=list-inline>\n",
       "\t<li>'ggplot2'</li>\n",
       "\t<li>'dplyr'</li>\n",
       "\t<li>'broom'</li>\n",
       "\t<li>'stats'</li>\n",
       "\t<li>'graphics'</li>\n",
       "\t<li>'grDevices'</li>\n",
       "\t<li>'utils'</li>\n",
       "\t<li>'datasets'</li>\n",
       "\t<li>'methods'</li>\n",
       "\t<li>'base'</li>\n",
       "</ol>\n",
       "</li>\n",
       "\t<li><ol class=list-inline>\n",
       "\t<li>'scales'</li>\n",
       "\t<li>'ggplot2'</li>\n",
       "\t<li>'dplyr'</li>\n",
       "\t<li>'broom'</li>\n",
       "\t<li>'stats'</li>\n",
       "\t<li>'graphics'</li>\n",
       "\t<li>'grDevices'</li>\n",
       "\t<li>'utils'</li>\n",
       "\t<li>'datasets'</li>\n",
       "\t<li>'methods'</li>\n",
       "\t<li>'base'</li>\n",
       "</ol>\n",
       "</li>\n",
       "\t<li><ol class=list-inline>\n",
       "\t<li>'forcats'</li>\n",
       "\t<li>'scales'</li>\n",
       "\t<li>'ggplot2'</li>\n",
       "\t<li>'dplyr'</li>\n",
       "\t<li>'broom'</li>\n",
       "\t<li>'stats'</li>\n",
       "\t<li>'graphics'</li>\n",
       "\t<li>'grDevices'</li>\n",
       "\t<li>'utils'</li>\n",
       "\t<li>'datasets'</li>\n",
       "\t<li>'methods'</li>\n",
       "\t<li>'base'</li>\n",
       "</ol>\n",
       "</li>\n",
       "</ol>\n"
      ],
      "text/latex": [
       "\\begin{enumerate}\n",
       "\\item \\begin{enumerate*}\n",
       "\\item 'broom'\n",
       "\\item 'stats'\n",
       "\\item 'graphics'\n",
       "\\item 'grDevices'\n",
       "\\item 'utils'\n",
       "\\item 'datasets'\n",
       "\\item 'methods'\n",
       "\\item 'base'\n",
       "\\end{enumerate*}\n",
       "\n",
       "\\item \\begin{enumerate*}\n",
       "\\item 'dplyr'\n",
       "\\item 'broom'\n",
       "\\item 'stats'\n",
       "\\item 'graphics'\n",
       "\\item 'grDevices'\n",
       "\\item 'utils'\n",
       "\\item 'datasets'\n",
       "\\item 'methods'\n",
       "\\item 'base'\n",
       "\\end{enumerate*}\n",
       "\n",
       "\\item \\begin{enumerate*}\n",
       "\\item 'ggplot2'\n",
       "\\item 'dplyr'\n",
       "\\item 'broom'\n",
       "\\item 'stats'\n",
       "\\item 'graphics'\n",
       "\\item 'grDevices'\n",
       "\\item 'utils'\n",
       "\\item 'datasets'\n",
       "\\item 'methods'\n",
       "\\item 'base'\n",
       "\\end{enumerate*}\n",
       "\n",
       "\\item \\begin{enumerate*}\n",
       "\\item 'scales'\n",
       "\\item 'ggplot2'\n",
       "\\item 'dplyr'\n",
       "\\item 'broom'\n",
       "\\item 'stats'\n",
       "\\item 'graphics'\n",
       "\\item 'grDevices'\n",
       "\\item 'utils'\n",
       "\\item 'datasets'\n",
       "\\item 'methods'\n",
       "\\item 'base'\n",
       "\\end{enumerate*}\n",
       "\n",
       "\\item \\begin{enumerate*}\n",
       "\\item 'forcats'\n",
       "\\item 'scales'\n",
       "\\item 'ggplot2'\n",
       "\\item 'dplyr'\n",
       "\\item 'broom'\n",
       "\\item 'stats'\n",
       "\\item 'graphics'\n",
       "\\item 'grDevices'\n",
       "\\item 'utils'\n",
       "\\item 'datasets'\n",
       "\\item 'methods'\n",
       "\\item 'base'\n",
       "\\end{enumerate*}\n",
       "\n",
       "\\end{enumerate}\n"
      ],
      "text/markdown": [
       "1. 1. 'broom'\n",
       "2. 'stats'\n",
       "3. 'graphics'\n",
       "4. 'grDevices'\n",
       "5. 'utils'\n",
       "6. 'datasets'\n",
       "7. 'methods'\n",
       "8. 'base'\n",
       "\n",
       "\n",
       "\n",
       "2. 1. 'dplyr'\n",
       "2. 'broom'\n",
       "3. 'stats'\n",
       "4. 'graphics'\n",
       "5. 'grDevices'\n",
       "6. 'utils'\n",
       "7. 'datasets'\n",
       "8. 'methods'\n",
       "9. 'base'\n",
       "\n",
       "\n",
       "\n",
       "3. 1. 'ggplot2'\n",
       "2. 'dplyr'\n",
       "3. 'broom'\n",
       "4. 'stats'\n",
       "5. 'graphics'\n",
       "6. 'grDevices'\n",
       "7. 'utils'\n",
       "8. 'datasets'\n",
       "9. 'methods'\n",
       "10. 'base'\n",
       "\n",
       "\n",
       "\n",
       "4. 1. 'scales'\n",
       "2. 'ggplot2'\n",
       "3. 'dplyr'\n",
       "4. 'broom'\n",
       "5. 'stats'\n",
       "6. 'graphics'\n",
       "7. 'grDevices'\n",
       "8. 'utils'\n",
       "9. 'datasets'\n",
       "10. 'methods'\n",
       "11. 'base'\n",
       "\n",
       "\n",
       "\n",
       "5. 1. 'forcats'\n",
       "2. 'scales'\n",
       "3. 'ggplot2'\n",
       "4. 'dplyr'\n",
       "5. 'broom'\n",
       "6. 'stats'\n",
       "7. 'graphics'\n",
       "8. 'grDevices'\n",
       "9. 'utils'\n",
       "10. 'datasets'\n",
       "11. 'methods'\n",
       "12. 'base'\n",
       "\n",
       "\n",
       "\n",
       "\n",
       "\n"
      ],
      "text/plain": [
       "[[1]]\n",
       "[1] \"broom\"     \"stats\"     \"graphics\"  \"grDevices\" \"utils\"     \"datasets\" \n",
       "[7] \"methods\"   \"base\"     \n",
       "\n",
       "[[2]]\n",
       "[1] \"dplyr\"     \"broom\"     \"stats\"     \"graphics\"  \"grDevices\" \"utils\"    \n",
       "[7] \"datasets\"  \"methods\"   \"base\"     \n",
       "\n",
       "[[3]]\n",
       " [1] \"ggplot2\"   \"dplyr\"     \"broom\"     \"stats\"     \"graphics\"  \"grDevices\"\n",
       " [7] \"utils\"     \"datasets\"  \"methods\"   \"base\"     \n",
       "\n",
       "[[4]]\n",
       " [1] \"scales\"    \"ggplot2\"   \"dplyr\"     \"broom\"     \"stats\"     \"graphics\" \n",
       " [7] \"grDevices\" \"utils\"     \"datasets\"  \"methods\"   \"base\"     \n",
       "\n",
       "[[5]]\n",
       " [1] \"forcats\"   \"scales\"    \"ggplot2\"   \"dplyr\"     \"broom\"     \"stats\"    \n",
       " [7] \"graphics\"  \"grDevices\" \"utils\"     \"datasets\"  \"methods\"   \"base\"     \n"
      ]
     },
     "metadata": {},
     "output_type": "display_data"
    }
   ],
   "source": [
    "# loading all necessary libraries\n",
    "library_list <- c('broom', 'dplyr', 'ggplot2', 'scales', 'forcats')\n",
    "\n",
    "lapply(library_list, library, character.only = TRUE)"
   ]
  },
  {
   "cell_type": "code",
   "execution_count": 2,
   "id": "2d17959e",
   "metadata": {},
   "outputs": [
    {
     "name": "stdout",
     "output_type": "stream",
     "text": [
      ", , Dept = A\n",
      "\n",
      "          Gender\n",
      "Admit      Male Female\n",
      "  Admitted  512     89\n",
      "  Rejected  313     19\n",
      "\n",
      ", , Dept = B\n",
      "\n",
      "          Gender\n",
      "Admit      Male Female\n",
      "  Admitted  353     17\n",
      "  Rejected  207      8\n",
      "\n",
      ", , Dept = C\n",
      "\n",
      "          Gender\n",
      "Admit      Male Female\n",
      "  Admitted  120    202\n",
      "  Rejected  205    391\n",
      "\n",
      ", , Dept = D\n",
      "\n",
      "          Gender\n",
      "Admit      Male Female\n",
      "  Admitted  138    131\n",
      "  Rejected  279    244\n",
      "\n",
      ", , Dept = E\n",
      "\n",
      "          Gender\n",
      "Admit      Male Female\n",
      "  Admitted   53     94\n",
      "  Rejected  138    299\n",
      "\n",
      ", , Dept = F\n",
      "\n",
      "          Gender\n",
      "Admit      Male Female\n",
      "  Admitted   22     24\n",
      "  Rejected  351    317\n",
      "\n"
     ]
    }
   ],
   "source": [
    "# load and view the data\n",
    "data(\"UCBAdmissions\")\n",
    "print(UCBAdmissions)"
   ]
  },
  {
   "cell_type": "markdown",
   "id": "00befcbe",
   "metadata": {},
   "source": [
    "### Tidy up the data\n",
    "As can be seen, the dataset is currently in an unyieldy format: It's a three dimensional array, tablulating 4526 observations across 3 the three following variables:\n",
    "\n",
    "1. \tAdmit \tAdmitted, Rejected\n",
    "2. \tGender \tMale, Female\n",
    "3.\tDept \tA, B, C, D, E, F \n",
    "\n",
    "To make further analysis possible, I'm going to convert the data into `tidy` format using the `tidy()` function from the `broom` package."
   ]
  },
  {
   "cell_type": "code",
   "execution_count": 3,
   "id": "503c129f",
   "metadata": {},
   "outputs": [
    {
     "name": "stdout",
     "output_type": "stream",
     "text": [
      "# A tibble: 24 x 4\n",
      "   Admit    Gender Dept      n\n",
      "   <chr>    <chr>  <chr> <dbl>\n",
      " 1 Admitted Male   A       512\n",
      " 2 Rejected Male   A       313\n",
      " 3 Admitted Female A        89\n",
      " 4 Rejected Female A        19\n",
      " 5 Admitted Male   B       353\n",
      " 6 Rejected Male   B       207\n",
      " 7 Admitted Female B        17\n",
      " 8 Rejected Female B         8\n",
      " 9 Admitted Male   C       120\n",
      "10 Rejected Male   C       205\n",
      "# ... with 14 more rows\n"
     ]
    }
   ],
   "source": [
    "data_tidy <- tidy(UCBAdmissions)\n",
    "\n",
    "print(data_tidy)"
   ]
  },
  {
   "cell_type": "markdown",
   "id": "76bfcc00",
   "metadata": {},
   "source": [
    "### Exploring the dataset\n",
    "I want to explore *Simpson's Paradox*, so it's a good idea to take a look at the distribution of admits/rejections across the two available genders.\n",
    "\n",
    "Here I use *verbs* from the `dplyr` package to group, summarize, mutate and filter my dataset."
   ]
  },
  {
   "cell_type": "code",
   "execution_count": 4,
   "id": "f1d45bbc",
   "metadata": {},
   "outputs": [
    {
     "data": {
      "text/html": [
       "<table>\n",
       "<thead><tr><th scope=col>Gender</th><th scope=col>n</th></tr></thead>\n",
       "<tbody>\n",
       "\t<tr><td>Female</td><td>1835  </td></tr>\n",
       "\t<tr><td>Male  </td><td>2691  </td></tr>\n",
       "</tbody>\n",
       "</table>\n"
      ],
      "text/latex": [
       "\\begin{tabular}{r|ll}\n",
       " Gender & n\\\\\n",
       "\\hline\n",
       "\t Female & 1835  \\\\\n",
       "\t Male   & 2691  \\\\\n",
       "\\end{tabular}\n"
      ],
      "text/markdown": [
       "\n",
       "| Gender | n |\n",
       "|---|---|\n",
       "| Female | 1835   |\n",
       "| Male   | 2691   |\n",
       "\n"
      ],
      "text/plain": [
       "  Gender n   \n",
       "1 Female 1835\n",
       "2 Male   2691"
      ]
     },
     "metadata": {},
     "output_type": "display_data"
    }
   ],
   "source": [
    "data_tidy %>%\n",
    "    group_by(Gender) %>%\n",
    "    summarize(n = sum(n))"
   ]
  },
  {
   "cell_type": "code",
   "execution_count": 5,
   "id": "2dcf67ba",
   "metadata": {},
   "outputs": [
    {
     "name": "stdout",
     "output_type": "stream",
     "text": [
      "# A tibble: 2 x 4\n",
      "# Groups:   Gender [2]\n",
      "  Admit    Gender     n  prop\n",
      "  <chr>    <chr>  <dbl> <dbl>\n",
      "1 Admitted Female   557 0.304\n",
      "2 Admitted Male    1198 0.445\n"
     ]
    }
   ],
   "source": [
    "data_tidy_agg <- data_tidy %>%\n",
    "                    group_by(Admit, Gender) %>%\n",
    "                    summarize(n = sum(n)) %>%\n",
    "                    ungroup() %>%\n",
    "                    group_by(Gender) %>%\n",
    "                    mutate(prop = n/sum(n)) %>%\n",
    "                    filter(Admit == \"Admitted\")\n",
    "\n",
    "print(data_tidy_agg)"
   ]
  },
  {
   "cell_type": "markdown",
   "id": "1eb31b1d",
   "metadata": {},
   "source": [
    "I can see the discrepancy in the acceptance rates already. 44.5% of all men (2691) who applied got admits, while only 30.4% of women applicants were admitted. Prima facie, this glaring chasm could mean that UC Berkeley discriminates its applicants based on gender.\n",
    "\n",
    "It's worthwhile to examine this further. To get a more visual sense, I will use the `ggplot2` package to make a bar chart."
   ]
  },
  {
   "cell_type": "code",
   "execution_count": 6,
   "id": "c715482e",
   "metadata": {},
   "outputs": [
    {
     "data": {
      "image/png": "[encoded data removed]",
      "text/plain": [
       "plot without title"
      ]
     },
     "metadata": {},
     "output_type": "display_data"
    }
   ],
   "source": [
    "gender_bar_plot <- data_tidy_agg %>%\n",
    "                        ggplot(aes(x = Gender, y = prop, fill = Gender)) +\n",
    "                        geom_col() +\n",
    "                        labs(title = \"Acceptance Rate by Gender\",\n",
    "                                  subtitle = \"University of California, Berkeley\",\n",
    "                                  y = \"Acceptance Rate\") +\n",
    "                        geom_text(aes(label = percent(prop)), vjust = -1) +\n",
    "                        scale_y_continuous(labels = percent, limits = c(0, 0.55)) +\n",
    "                        guides(fill = FALSE)\n",
    "\n",
    "print(gender_bar_plot)"
   ]
  },
  {
   "cell_type": "markdown",
   "id": "b6c8a5c5",
   "metadata": {},
   "source": [
    "While the above method gives us information in the aggregate, I'd like to break it down by department. I'm looking to see if all or most departments conform with this trend of preferring male applicants. I'll continue using the `dplyr` package for this and finally plot my observations in a series of bar charts."
   ]
  },
  {
   "cell_type": "code",
   "execution_count": 7,
   "id": "66c52eb6",
   "metadata": {},
   "outputs": [
    {
     "name": "stdout",
     "output_type": "stream",
     "text": [
      "# A tibble: 12 x 5\n",
      "# Groups:   Gender, Dept [12]\n",
      "   Admit    Gender Dept      n   prop\n",
      "   <chr>    <chr>  <chr> <dbl>  <dbl>\n",
      " 1 Admitted Male   A       512 0.621 \n",
      " 2 Admitted Female A        89 0.824 \n",
      " 3 Admitted Male   B       353 0.630 \n",
      " 4 Admitted Female B        17 0.68  \n",
      " 5 Admitted Male   C       120 0.369 \n",
      " 6 Admitted Female C       202 0.341 \n",
      " 7 Admitted Male   D       138 0.331 \n",
      " 8 Admitted Female D       131 0.349 \n",
      " 9 Admitted Male   E        53 0.277 \n",
      "10 Admitted Female E        94 0.239 \n",
      "11 Admitted Male   F        22 0.0590\n",
      "12 Admitted Female F        24 0.0704\n"
     ]
    }
   ],
   "source": [
    "data_tidy_dept <- data_tidy %>%\n",
    "                    group_by(Gender, Dept) %>%\n",
    "                    mutate(prop = n/sum(n)) %>%\n",
    "                    filter(Admit == \"Admitted\")\n",
    "\n",
    "print(data_tidy_dept)"
   ]
  },
  {
   "cell_type": "code",
   "execution_count": 8,
   "id": "bf0dba34",
   "metadata": {},
   "outputs": [
    {
     "data": {
      "image/png": "[encoded data removed]",
      "text/plain": [
       "plot without title"
      ]
     },
     "metadata": {},
     "output_type": "display_data"
    }
   ],
   "source": [
    "gender_dept_bar <- data_tidy_dept %>% \n",
    "  ggplot(aes(Gender, prop, fill = Gender)) +\n",
    "  geom_col() +\n",
    "  geom_text(aes(label = percent(prop)), vjust = -1) +\n",
    "  labs(title = \"Acceptance rate of male and female applicants\",\n",
    "       subtitle = \"University of California, Berkeley (1973)\",\n",
    "       y = \"Acceptance rate\") +\n",
    "  scale_y_continuous(labels = scales::percent, limits = c(0, 1)) +\n",
    "  facet_wrap(~ Dept) +\n",
    "  guides(fill = FALSE)\n",
    "\n",
    "print(gender_dept_bar)"
   ]
  },
  {
   "cell_type": "markdown",
   "id": "17d85a3f",
   "metadata": {},
   "source": [
    "Breaking down the data by department makes it apparent that while Departments C and E do seem to prefer male applicants, this trend is missing from the other departments. On the other hand, Departments A and B overwhelmingly favoured women. On the surface, at least, gender based discrimination doesn't seem to be a systemic issue at Berkeley.\n",
    "\n",
    "Taking a deeper dive into department level statistics, I can see that the distribution of applicants is not similar across departments. For example, Department B only had 25 women and 560 male applicants, while Department F had more or less similar figures for female and male applicants (341 vs 373)."
   ]
  },
  {
   "cell_type": "code",
   "execution_count": 9,
   "id": "0d132183",
   "metadata": {},
   "outputs": [
    {
     "data": {
      "text/html": [
       "<table>\n",
       "<thead><tr><th scope=col>Dept</th><th scope=col>Gender</th><th scope=col>n</th></tr></thead>\n",
       "<tbody>\n",
       "\t<tr><td>A     </td><td>Female</td><td>108   </td></tr>\n",
       "\t<tr><td>A     </td><td>Male  </td><td>825   </td></tr>\n",
       "\t<tr><td>B     </td><td>Female</td><td> 25   </td></tr>\n",
       "\t<tr><td>B     </td><td>Male  </td><td>560   </td></tr>\n",
       "\t<tr><td>C     </td><td>Female</td><td>593   </td></tr>\n",
       "\t<tr><td>C     </td><td>Male  </td><td>325   </td></tr>\n",
       "\t<tr><td>D     </td><td>Female</td><td>375   </td></tr>\n",
       "\t<tr><td>D     </td><td>Male  </td><td>417   </td></tr>\n",
       "\t<tr><td>E     </td><td>Female</td><td>393   </td></tr>\n",
       "\t<tr><td>E     </td><td>Male  </td><td>191   </td></tr>\n",
       "\t<tr><td>F     </td><td>Female</td><td>341   </td></tr>\n",
       "\t<tr><td>F     </td><td>Male  </td><td>373   </td></tr>\n",
       "</tbody>\n",
       "</table>\n"
      ],
      "text/latex": [
       "\\begin{tabular}{r|lll}\n",
       " Dept & Gender & n\\\\\n",
       "\\hline\n",
       "\t A      & Female & 108   \\\\\n",
       "\t A      & Male   & 825   \\\\\n",
       "\t B      & Female &  25   \\\\\n",
       "\t B      & Male   & 560   \\\\\n",
       "\t C      & Female & 593   \\\\\n",
       "\t C      & Male   & 325   \\\\\n",
       "\t D      & Female & 375   \\\\\n",
       "\t D      & Male   & 417   \\\\\n",
       "\t E      & Female & 393   \\\\\n",
       "\t E      & Male   & 191   \\\\\n",
       "\t F      & Female & 341   \\\\\n",
       "\t F      & Male   & 373   \\\\\n",
       "\\end{tabular}\n"
      ],
      "text/markdown": [
       "\n",
       "| Dept | Gender | n |\n",
       "|---|---|---|\n",
       "| A      | Female | 108    |\n",
       "| A      | Male   | 825    |\n",
       "| B      | Female |  25    |\n",
       "| B      | Male   | 560    |\n",
       "| C      | Female | 593    |\n",
       "| C      | Male   | 325    |\n",
       "| D      | Female | 375    |\n",
       "| D      | Male   | 417    |\n",
       "| E      | Female | 393    |\n",
       "| E      | Male   | 191    |\n",
       "| F      | Female | 341    |\n",
       "| F      | Male   | 373    |\n",
       "\n"
      ],
      "text/plain": [
       "   Dept Gender n  \n",
       "1  A    Female 108\n",
       "2  A    Male   825\n",
       "3  B    Female  25\n",
       "4  B    Male   560\n",
       "5  C    Female 593\n",
       "6  C    Male   325\n",
       "7  D    Female 375\n",
       "8  D    Male   417\n",
       "9  E    Female 393\n",
       "10 E    Male   191\n",
       "11 F    Female 341\n",
       "12 F    Male   373"
      ]
     },
     "metadata": {},
     "output_type": "display_data"
    }
   ],
   "source": [
    "data_tidy %>% \n",
    "    group_by(Dept, Gender) %>% \n",
    "    summarize(n = sum(n))"
   ]
  },
  {
   "cell_type": "markdown",
   "id": "5fa1d642",
   "metadata": {},
   "source": [
    "**What's going on here?**\n",
    "\n",
    "At this stage, I think it is fair to hypothesize that - since there is no systemic discrimination - the discrepancy in acceptance rate by gender should disapper if we control for department.\n",
    "\n",
    "I will use *binary logistic regression* to test my hypothesis using the `glm()` method. However, to do this, I will have to process my data a little more. I need a single row per applicant. This means my dataset will have 4526 rows. \n",
    "\n",
    "I don't see any way I can de-aggregate in this manner with available methods, so I will write a function that does this for me. I also have in the back of mind that I will need a `data.frame` for the `glm()` function, so I have to move out of the `tibble` that I currently have."
   ]
  },
  {
   "cell_type": "code",
   "execution_count": 10,
   "id": "92d9ba50",
   "metadata": {},
   "outputs": [],
   "source": [
    "create_rows <- function(col, n) {\n",
    "    rep(col, n)\n",
    "}"
   ]
  },
  {
   "cell_type": "markdown",
   "id": "3da73479",
   "metadata": {},
   "source": [
    "The function is simple. It operates on one column at a time. It uses the column `n` to detemine how many rows to create. I will operate on one column at a time and append all of them to a `data.frame`."
   ]
  },
  {
   "cell_type": "code",
   "execution_count": 11,
   "id": "23fe8284",
   "metadata": {},
   "outputs": [],
   "source": [
    "data_frame <- data.frame(Admit = create_rows(data_tidy$Admit, data_tidy$n),\n",
    "                        Dept = create_rows(data_tidy$Dept, data_tidy$n),\n",
    "                        Gender = create_rows(data_tidy$Gender, data_tidy$n))"
   ]
  },
  {
   "cell_type": "markdown",
   "id": "687f5058",
   "metadata": {},
   "source": [
    "I'll take print out the number of rows to confirm that I have what I expect."
   ]
  },
  {
   "cell_type": "code",
   "execution_count": 12,
   "id": "34c24892",
   "metadata": {
    "scrolled": true
   },
   "outputs": [
    {
     "name": "stdout",
     "output_type": "stream",
     "text": [
      "[1] \"The number of observations:\"\n",
      "[1] 4526\n"
     ]
    },
    {
     "data": {
      "text/html": [
       "<table>\n",
       "<thead><tr><th scope=col>Admit</th><th scope=col>Dept</th><th scope=col>Gender</th></tr></thead>\n",
       "<tbody>\n",
       "\t<tr><td>Admitted</td><td>A       </td><td>Male    </td></tr>\n",
       "\t<tr><td>Admitted</td><td>A       </td><td>Male    </td></tr>\n",
       "\t<tr><td>Admitted</td><td>A       </td><td>Male    </td></tr>\n",
       "\t<tr><td>Admitted</td><td>A       </td><td>Male    </td></tr>\n",
       "\t<tr><td>Admitted</td><td>A       </td><td>Male    </td></tr>\n",
       "\t<tr><td>Admitted</td><td>A       </td><td>Male    </td></tr>\n",
       "</tbody>\n",
       "</table>\n"
      ],
      "text/latex": [
       "\\begin{tabular}{r|lll}\n",
       " Admit & Dept & Gender\\\\\n",
       "\\hline\n",
       "\t Admitted & A        & Male    \\\\\n",
       "\t Admitted & A        & Male    \\\\\n",
       "\t Admitted & A        & Male    \\\\\n",
       "\t Admitted & A        & Male    \\\\\n",
       "\t Admitted & A        & Male    \\\\\n",
       "\t Admitted & A        & Male    \\\\\n",
       "\\end{tabular}\n"
      ],
      "text/markdown": [
       "\n",
       "| Admit | Dept | Gender |\n",
       "|---|---|---|\n",
       "| Admitted | A        | Male     |\n",
       "| Admitted | A        | Male     |\n",
       "| Admitted | A        | Male     |\n",
       "| Admitted | A        | Male     |\n",
       "| Admitted | A        | Male     |\n",
       "| Admitted | A        | Male     |\n",
       "\n"
      ],
      "text/plain": [
       "  Admit    Dept Gender\n",
       "1 Admitted A    Male  \n",
       "2 Admitted A    Male  \n",
       "3 Admitted A    Male  \n",
       "4 Admitted A    Male  \n",
       "5 Admitted A    Male  \n",
       "6 Admitted A    Male  "
      ]
     },
     "metadata": {},
     "output_type": "display_data"
    }
   ],
   "source": [
    "print(\"The number of observations:\") \n",
    "print(nrow(data_frame))\n",
    "\n",
    "head(data_frame)"
   ]
  },
  {
   "cell_type": "markdown",
   "id": "6fc32828",
   "metadata": {},
   "source": [
    "Before I get started with modelling, I know that `glm()` expects 0 to be a 'failure' and 1 to be a 'success'. I also know that the `Admit` column is of the data type `factor`. Therefore, I will need to reverse the levels assigned to `Admitted` and `Rejected`. As things stand now, `Admitted` will be marked 0 and `Rejected` 1.\n",
    "\n",
    "I will use the `fct_relevel` function from the `forcats` package to achieve this."
   ]
  },
  {
   "cell_type": "code",
   "execution_count": 13,
   "id": "8f8307b7",
   "metadata": {},
   "outputs": [],
   "source": [
    "data_frame$Admit <- fct_relevel(data_frame$Admit, \"Rejected\", \"Admitted\")"
   ]
  },
  {
   "cell_type": "markdown",
   "id": "fb1d2384",
   "metadata": {},
   "source": [
    "Time to run my model."
   ]
  },
  {
   "cell_type": "code",
   "execution_count": 14,
   "id": "f3ffe481",
   "metadata": {},
   "outputs": [
    {
     "data": {
      "text/plain": [
       "\n",
       "Call:\n",
       "glm(formula = Admit ~ Gender + Dept, family = \"binomial\", data = data_frame)\n",
       "\n",
       "Deviance Residuals: \n",
       "    Min       1Q   Median       3Q      Max  \n",
       "-1.4773  -0.9306  -0.3741   0.9588   2.3613  \n",
       "\n",
       "Coefficients:\n",
       "            Estimate Std. Error z value Pr(>|z|)    \n",
       "(Intercept)  0.68192    0.09911   6.880 5.97e-12 ***\n",
       "GenderMale  -0.09987    0.08085  -1.235    0.217    \n",
       "DeptB       -0.04340    0.10984  -0.395    0.693    \n",
       "DeptC       -1.26260    0.10663 -11.841  < 2e-16 ***\n",
       "DeptD       -1.29461    0.10582 -12.234  < 2e-16 ***\n",
       "DeptE       -1.73931    0.12611 -13.792  < 2e-16 ***\n",
       "DeptF       -3.30648    0.16998 -19.452  < 2e-16 ***\n",
       "---\n",
       "Signif. codes:  0 '***' 0.001 '**' 0.01 '*' 0.05 '.' 0.1 ' ' 1\n",
       "\n",
       "(Dispersion parameter for binomial family taken to be 1)\n",
       "\n",
       "    Null deviance: 6044.3  on 4525  degrees of freedom\n",
       "Residual deviance: 5187.5  on 4519  degrees of freedom\n",
       "AIC: 5201.5\n",
       "\n",
       "Number of Fisher Scoring iterations: 5\n"
      ]
     },
     "metadata": {},
     "output_type": "display_data"
    }
   ],
   "source": [
    "model_1 <- glm(Admit ~ Gender + Dept, data = data_frame, family = \"binomial\")\n",
    "\n",
    "summary(model_1)"
   ]
  },
  {
   "cell_type": "markdown",
   "id": "f3838214",
   "metadata": {},
   "source": [
    "From the above, upon controlling for department, I can see that the coefficient for Male is `-0.09987`. It's negative! That means the model suggests that the admissions process is biased against male applicants. However, this estimate is not statistically significant.\n",
    "\n",
    "I think we can reject our hypothesis that there was systemic gender-based discrimination in Berkely in 1973."
   ]
  },
  {
   "cell_type": "markdown",
   "id": "cb9981e6",
   "metadata": {},
   "source": [
    "### Simpson's Paradox\n",
    "> Simpson’s Paradox is a statistical phenomenon where an association between two variables in a population emerges, disappears or reverses when the population is divided into subpopulations.\n",
    ">                                                                        \n",
    "> [*Stanford Encyclopedia of Philosophy*](https://plato.stanford.edu/entries/paradox-simpson/)\n",
    "\n",
    "Now, to take a look at the phenomenon in play, I will train three models:\n",
    "1. On Gender filtered for applicants to Department A\n",
    "2. On Gender filtered for applicants to Department E\n",
    "3. On Gender (without any department)"
   ]
  },
  {
   "cell_type": "markdown",
   "id": "c87a75e9",
   "metadata": {},
   "source": [
    "#### Model 1: On Gender filtered for applicants to Department A\n",
    "You can see that the coefficient for Male applicants is `-1.0521` and is significant at the 0.001 level. This means male applicants are, seemingly, at a disadvantage while applying to Department A. This makes sense because 82% of the women who applied were admitted whereas only 62% of men were admitted."
   ]
  },
  {
   "cell_type": "code",
   "execution_count": 15,
   "id": "074f0559",
   "metadata": {},
   "outputs": [
    {
     "data": {
      "text/plain": [
       "\n",
       "Call:\n",
       "glm(formula = Admit ~ Gender, family = \"binomial\", data = data_a)\n",
       "\n",
       "Deviance Residuals: \n",
       "    Min       1Q   Median       3Q      Max  \n",
       "-1.8642  -1.3922   0.9768   0.9768   0.9768  \n",
       "\n",
       "Coefficients:\n",
       "            Estimate Std. Error z value Pr(>|z|)    \n",
       "(Intercept)   1.5442     0.2527   6.110 9.94e-10 ***\n",
       "GenderMale   -1.0521     0.2627  -4.005 6.21e-05 ***\n",
       "---\n",
       "Signif. codes:  0 '***' 0.001 '**' 0.01 '*' 0.05 '.' 0.1 ' ' 1\n",
       "\n",
       "(Dispersion parameter for binomial family taken to be 1)\n",
       "\n",
       "    Null deviance: 1214.7  on 932  degrees of freedom\n",
       "Residual deviance: 1195.7  on 931  degrees of freedom\n",
       "AIC: 1199.7\n",
       "\n",
       "Number of Fisher Scoring iterations: 4\n"
      ]
     },
     "metadata": {},
     "output_type": "display_data"
    }
   ],
   "source": [
    "data_a <- data_frame %>%\n",
    "            filter(Dept == \"A\")\n",
    "\n",
    "model_A <- glm(Admit ~ Gender, data = data_a, family = \"binomial\")\n",
    "\n",
    "summary(model_A)"
   ]
  },
  {
   "cell_type": "markdown",
   "id": "033ed333",
   "metadata": {},
   "source": [
    "#### Model 2: On Gender filtered for applicants to Department E\n",
    "In this model, the estimate for male applicants is `0.2002` and is not significant at the 95% level. But it is certainly at odds with the trends observed above."
   ]
  },
  {
   "cell_type": "code",
   "execution_count": 16,
   "id": "b4775ccc",
   "metadata": {},
   "outputs": [
    {
     "data": {
      "text/plain": [
       "\n",
       "Call:\n",
       "glm(formula = Admit ~ Gender, family = \"binomial\", data = data_e)\n",
       "\n",
       "Deviance Residuals: \n",
       "    Min       1Q   Median       3Q      Max  \n",
       "-0.8063  -0.7394  -0.7394   1.6012   1.6915  \n",
       "\n",
       "Coefficients:\n",
       "            Estimate Std. Error z value Pr(>|z|)    \n",
       "(Intercept)  -1.1571     0.1182  -9.786   <2e-16 ***\n",
       "GenderMale    0.2002     0.2002   1.000    0.317    \n",
       "---\n",
       "Signif. codes:  0 '***' 0.001 '**' 0.01 '*' 0.05 '.' 0.1 ' ' 1\n",
       "\n",
       "(Dispersion parameter for binomial family taken to be 1)\n",
       "\n",
       "    Null deviance: 659.00  on 583  degrees of freedom\n",
       "Residual deviance: 658.01  on 582  degrees of freedom\n",
       "AIC: 662.01\n",
       "\n",
       "Number of Fisher Scoring iterations: 4\n"
      ]
     },
     "metadata": {},
     "output_type": "display_data"
    }
   ],
   "source": [
    "data_e <- data_frame %>%\n",
    "            filter(Dept == \"E\")\n",
    "\n",
    "model_E <- glm(Admit ~ Gender, data = data_e, family = \"binomial\")\n",
    "\n",
    "summary(model_E)"
   ]
  },
  {
   "cell_type": "markdown",
   "id": "ae9fa2e4",
   "metadata": {},
   "source": [
    "#### Model 3: On Gender (without any department)\n",
    "This is the case that initally called out attention to discrimination based on gender. This model does not factor in department as an explanatory variable, and thus the estimate of the coefficient of a admitted Male applicants is `0.61305`."
   ]
  },
  {
   "cell_type": "code",
   "execution_count": 17,
   "id": "3de4dccf",
   "metadata": {},
   "outputs": [
    {
     "data": {
      "text/plain": [
       "\n",
       "Call:\n",
       "glm(formula = Admit ~ Gender, family = \"binomial\", data = data_frame)\n",
       "\n",
       "Deviance Residuals: \n",
       "    Min       1Q   Median       3Q      Max  \n",
       "-1.0855  -1.0855  -0.8506   1.2722   1.5442  \n",
       "\n",
       "Coefficients:\n",
       "            Estimate Std. Error z value Pr(>|z|)    \n",
       "(Intercept) -0.83049    0.05077 -16.357   <2e-16 ***\n",
       "GenderMale   0.61035    0.06389   9.553   <2e-16 ***\n",
       "---\n",
       "Signif. codes:  0 '***' 0.001 '**' 0.01 '*' 0.05 '.' 0.1 ' ' 1\n",
       "\n",
       "(Dispersion parameter for binomial family taken to be 1)\n",
       "\n",
       "    Null deviance: 6044.3  on 4525  degrees of freedom\n",
       "Residual deviance: 5950.9  on 4524  degrees of freedom\n",
       "AIC: 5954.9\n",
       "\n",
       "Number of Fisher Scoring iterations: 4\n"
      ]
     },
     "metadata": {},
     "output_type": "display_data"
    }
   ],
   "source": [
    "model_2 <- glm(Admit ~ Gender, data = data_frame, family = \"binomial\")\n",
    "\n",
    "summary(model_2)"
   ]
  }
 ],
 "metadata": {
  "kernelspec": {
   "display_name": "R",
   "language": "R",
   "name": "ir"
  },
  "language_info": {
   "codemirror_mode": "r",
   "file_extension": ".r",
   "mimetype": "text/x-r-source",
   "name": "R",
   "pygments_lexer": "r",
   "version": "3.6.1"
  }
 },
 "nbformat": 4,
 "nbformat_minor": 5
}
